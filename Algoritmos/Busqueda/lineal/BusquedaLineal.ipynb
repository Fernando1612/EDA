{
 "cells": [
  {
   "cell_type": "code",
   "execution_count": 3,
   "metadata": {},
   "outputs": [
    {
     "data": {
      "text/plain": [
       "4"
      ]
     },
     "execution_count": 3,
     "metadata": {},
     "output_type": "execute_result"
    }
   ],
   "source": [
    "from numpy import array\n",
    "\n",
    "#Complejidad O(n) Lineal\n",
    "#Creamos una arreglo donde vamos a buscar el elemento\n",
    "arr = array([10,12,3,4,5,2,4,6])\n",
    "\n",
    "#Definimos la funcion con parametros del arreglo y el elemento a buscar\n",
    "def busquedaLineal(arr, a):\n",
    "    \n",
    "    #Recorremos todo el arreglo\n",
    "    for i in range(len(arr)):\n",
    "        #comprobamos si existe el elemento\n",
    "        if arr[i] == a:\n",
    "            return i\n",
    "    return -1\n",
    "    \n",
    "busquedaLineal(arr,5)"
   ]
  },
  {
   "cell_type": "code",
   "execution_count": null,
   "metadata": {},
   "outputs": [],
   "source": []
  }
 ],
 "metadata": {
  "kernelspec": {
   "display_name": "Python 3",
   "language": "python",
   "name": "python3"
  },
  "language_info": {
   "codemirror_mode": {
    "name": "ipython",
    "version": 3
   },
   "file_extension": ".py",
   "mimetype": "text/x-python",
   "name": "python",
   "nbconvert_exporter": "python",
   "pygments_lexer": "ipython3",
   "version": "3.7.6"
  }
 },
 "nbformat": 4,
 "nbformat_minor": 4
}
