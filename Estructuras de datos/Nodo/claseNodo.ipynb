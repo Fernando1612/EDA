{
 "cells": [
  {
   "cell_type": "markdown",
   "metadata": {},
   "source": [
    "Repaso rapido de POO en python\n",
    "\n",
    "En Python casi todo es un objeto, a diferencia de otros lenguajes, una clase es un objeto también, suena raro pero efectivamente es así.\n",
    "\n",
    "El parámetro self se refiere al objeto instanciado de esa clase sobre el cual se está invocando dicho método. \n",
    "\n",
    "Self sirve para hacer referencia a la propia clase. \n",
    "\n",
    "El método __init__ es un método especial de una clase en Python. El objetivo fundamental del método __init__ es inicializar los atributos del objeto que creamos."
   ]
  },
  {
   "cell_type": "code",
   "execution_count": 6,
   "metadata": {},
   "outputs": [],
   "source": [
    "class Nodo:\n",
    "    def __init__(self,datoInicial):\n",
    "        self.dato = datoInicial\n",
    "        self.siguiente = None\n",
    "        \n",
    "    def obtenerDato(self):\n",
    "        return self.dato\n",
    "    \n",
    "    def obtenerSiguiente(self):\n",
    "        return self.siguiente\n",
    "    \n",
    "    def asignarDato(self,nuevoDato):\n",
    "        self.dato = nuevoDato\n",
    "        \n",
    "    def asignarSiguiente(self,nuevoSiguiente):\n",
    "        self.siguiente = nuevoSiguiente\n",
    "        \n"
   ]
  },
  {
   "cell_type": "code",
   "execution_count": 5,
   "metadata": {},
   "outputs": [
    {
     "data": {
      "text/plain": [
       "96"
      ]
     },
     "execution_count": 5,
     "metadata": {},
     "output_type": "execute_result"
    }
   ],
   "source": [
    "temp = Nodo(96)\n",
    "temp.obtenerDato()"
   ]
  },
  {
   "cell_type": "code",
   "execution_count": null,
   "metadata": {},
   "outputs": [],
   "source": []
  }
 ],
 "metadata": {
  "kernelspec": {
   "display_name": "Python 3",
   "language": "python",
   "name": "python3"
  },
  "language_info": {
   "codemirror_mode": {
    "name": "ipython",
    "version": 3
   },
   "file_extension": ".py",
   "mimetype": "text/x-python",
   "name": "python",
   "nbconvert_exporter": "python",
   "pygments_lexer": "ipython3",
   "version": "3.7.3"
  }
 },
 "nbformat": 4,
 "nbformat_minor": 2
}
